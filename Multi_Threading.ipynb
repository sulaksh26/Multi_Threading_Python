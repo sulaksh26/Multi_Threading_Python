{
  "nbformat": 4,
  "nbformat_minor": 0,
  "metadata": {
    "colab": {
      "provenance": [],
      "authorship_tag": "ABX9TyMeD3rvM99IVglGZng+AFeF",
      "include_colab_link": true
    },
    "kernelspec": {
      "name": "python3",
      "display_name": "Python 3"
    },
    "language_info": {
      "name": "python"
    }
  },
  "cells": [
    {
      "cell_type": "markdown",
      "metadata": {
        "id": "view-in-github",
        "colab_type": "text"
      },
      "source": [
        "<a href=\"https://colab.research.google.com/github/sulaksh26/Multi_Threading_Python/blob/main/Multi_Threading.ipynb\" target=\"_parent\"><img src=\"https://colab.research.google.com/assets/colab-badge.svg\" alt=\"Open In Colab\"/></a>"
      ]
    },
    {
      "cell_type": "code",
      "execution_count": null,
      "metadata": {
        "colab": {
          "base_uri": "https://localhost:8080/"
        },
        "id": "kNXOyd9OI8my",
        "outputId": "599a2088-257d-4c94-889b-e3276314376e"
      },
      "outputs": [
        {
          "output_type": "stream",
          "name": "stdout",
          "text": [
            "OS name: posix\n"
          ]
        }
      ],
      "source": [
        "import os\n",
        "\n",
        "print(\"OS name:\",os.name)\n"
      ]
    },
    {
      "cell_type": "code",
      "source": [
        "import sys\n",
        "\n",
        "print(\"OS name:\",sys.platform)\n"
      ],
      "metadata": {
        "colab": {
          "base_uri": "https://localhost:8080/"
        },
        "id": "oLn37aBhJTkA",
        "outputId": "ce38b4ce-46d3-46c5-b052-8dc19d5953db"
      },
      "execution_count": null,
      "outputs": [
        {
          "output_type": "stream",
          "name": "stdout",
          "text": [
            "OS name: linux\n"
          ]
        }
      ]
    },
    {
      "cell_type": "code",
      "source": [
        "import platform\n",
        "\n",
        "print(\"OS Platform:\",platform.platform())"
      ],
      "metadata": {
        "colab": {
          "base_uri": "https://localhost:8080/"
        },
        "id": "eKhLhDhhJaDv",
        "outputId": "a62f4958-3b0c-4828-e1a8-ee1b921bade5"
      },
      "execution_count": null,
      "outputs": [
        {
          "output_type": "stream",
          "name": "stdout",
          "text": [
            "OS Platform: Linux-5.10.147+-x86_64-with-glibc2.31\n"
          ]
        }
      ]
    },
    {
      "cell_type": "code",
      "source": [
        "import multiprocessing\n",
        "\n",
        "numberOfCores=multiprocessing.cpu_count()\n",
        "print(\"Num of cores are:\",numberOfCores)"
      ],
      "metadata": {
        "colab": {
          "base_uri": "https://localhost:8080/"
        },
        "id": "MXMmxvqMJk6w",
        "outputId": "8f122b76-bc6a-46a4-96c1-f6b5537359ab"
      },
      "execution_count": null,
      "outputs": [
        {
          "output_type": "stream",
          "name": "stdout",
          "text": [
            "Num of cores are: 2\n"
          ]
        }
      ]
    },
    {
      "cell_type": "code",
      "source": [
        "import threading\n",
        "\n",
        "activeThread=threading.activeCount()\n",
        "print(\"Num of threads:\",activeThread)"
      ],
      "metadata": {
        "colab": {
          "base_uri": "https://localhost:8080/"
        },
        "id": "AqcCoihdJz9_",
        "outputId": "960c6a02-eae9-4c9f-b057-3a13826d1884"
      },
      "execution_count": null,
      "outputs": [
        {
          "output_type": "stream",
          "name": "stdout",
          "text": [
            "Num of threads: 5\n"
          ]
        }
      ]
    },
    {
      "cell_type": "code",
      "source": [
        "import time\n",
        "\n",
        "startTime=time.time()\n",
        "n=5\n",
        "print(\"Program started\")\n",
        "print(\"\\nWaiting for %d sec....\"%(n))\n",
        "time.sleep(n)\n",
        "\n",
        "print(\"\\n Total time %f sec\"%(round(time.time()-startTime,4)))"
      ],
      "metadata": {
        "id": "CtOxoQEkKATY",
        "colab": {
          "base_uri": "https://localhost:8080/"
        },
        "outputId": "dcdab833-83f7-49ee-b1b3-1e0a72b2c35b"
      },
      "execution_count": null,
      "outputs": [
        {
          "output_type": "stream",
          "name": "stdout",
          "text": [
            "Program started\n",
            "\n",
            "Waiting for 5 sec....\n",
            "\n",
            " Total time 5.008200 sec\n"
          ]
        }
      ]
    },
    {
      "cell_type": "code",
      "source": [
        "import os\n",
        "os.getcwd()"
      ],
      "metadata": {
        "colab": {
          "base_uri": "https://localhost:8080/",
          "height": 36
        },
        "id": "rij9rEFnSt6K",
        "outputId": "cdc58dae-97b4-43a0-9b46-232a88c4c742"
      },
      "execution_count": null,
      "outputs": [
        {
          "output_type": "execute_result",
          "data": {
            "text/plain": [
              "'/content'"
            ],
            "application/vnd.google.colaboratory.intrinsic+json": {
              "type": "string"
            }
          },
          "metadata": {},
          "execution_count": 9
        }
      ]
    },
    {
      "cell_type": "code",
      "source": [
        "import os,sys,time,threading,multiprocessing,random as r\n",
        "\n",
        "#Function runs for random minutes\n",
        "\n",
        "def task(cmd):\n",
        "  waitingTime=r.randint(5,15)\n",
        "\n",
        "  print(\"Task started\")\n",
        "  print(\"Task running for %d sec...\"%(waitingTime))\n",
        "  time.sleep(waitingTime)\n",
        "\n",
        "  print(\"Task ends\")\n",
        "  return\n",
        "\n",
        "cmd='Sample task'\n",
        "task(cmd)"
      ],
      "metadata": {
        "colab": {
          "base_uri": "https://localhost:8080/"
        },
        "id": "OnAuPyzuSyYi",
        "outputId": "69e0bdf7-d78b-4536-bea2-053086a78b7d"
      },
      "execution_count": null,
      "outputs": [
        {
          "output_type": "stream",
          "name": "stdout",
          "text": [
            "Task started\n",
            "Task running for 13 sec...\n",
            "Task ends\n"
          ]
        }
      ]
    },
    {
      "cell_type": "code",
      "source": [
        "startTime=time.time()\n",
        "\n",
        "cmd='Sample task'\n",
        "\n",
        "print(\"Program started\")\n",
        "print(\"Thread starts\")\n",
        "\n",
        "t=threading.Thread(target=task,args=(cmd,))\n",
        "\n",
        "t.start()\n",
        "\n",
        "print(\"Thread ends\")\n",
        "\n",
        "print(\"Program finished\")\n",
        "\n",
        "print(\"Total time % f sec\"%(round(time.time()-startTime,4)))\n",
        "\n",
        "\n",
        "\n",
        "\n"
      ],
      "metadata": {
        "colab": {
          "base_uri": "https://localhost:8080/"
        },
        "id": "WerXkOyoTc9k",
        "outputId": "4e02a9f3-1f1b-40d9-a967-e292c82f3d0a"
      },
      "execution_count": null,
      "outputs": [
        {
          "output_type": "stream",
          "name": "stdout",
          "text": [
            "Program started\n",
            "Thread starts\n",
            "Task startedThread ends\n",
            "Program finished\n",
            "Total time  0.003200 sec\n",
            "\n",
            "Task running for 10 sec...\n"
          ]
        }
      ]
    },
    {
      "cell_type": "code",
      "source": [
        "startTime=time.time()\n",
        "\n",
        "activeThreads=threading.activeCount()\n",
        "print(\"Active threads:\",activeThreads)\n",
        "\n",
        "cmd='Sample task'\n",
        "\n",
        "print(\"Program started\")\n",
        "print(\"Thread starts\")\n",
        "\n",
        "t=threading.Thread(target=task,args=(cmd,))\n",
        "t.start()\n",
        "time.sleep(1)\n",
        "\n",
        "# Waiting to finish threads\n",
        "\n",
        "while True:\n",
        "  if threading.activeCount()==activeThreads:\n",
        "    break;\n",
        "  else:\n",
        "    print(\"Thread still running (left %d)...\"%(threading.activeCount()-activeThreads))\n",
        "    time.sleep(1)\n",
        "\n",
        "print(\"thread ends\")\n",
        "\n",
        "print(\"Program finished\")\n",
        "print(\"Total time %f sec\"% (round(time.time()-startTime,4)))\n",
        "\n",
        "\n",
        "\n",
        "\n"
      ],
      "metadata": {
        "id": "FnMW5-mKVmdg",
        "colab": {
          "base_uri": "https://localhost:8080/"
        },
        "outputId": "1ae14108-0c1c-4778-f849-fbf218b74f51"
      },
      "execution_count": null,
      "outputs": [
        {
          "output_type": "stream",
          "name": "stdout",
          "text": [
            "Active threads: 5\n",
            "Program started\n",
            "Thread starts\n",
            "Task started\n",
            "Task running for 5 sec...\n",
            "Thread still running (left 1)...\n",
            "Thread still running (left 1)...\n",
            "Thread still running (left 1)...\n",
            "Thread still running (left 1)...\n",
            "Task ends\n",
            "thread ends\n",
            "Program finished\n",
            "Total time 5.010400 sec\n"
          ]
        }
      ]
    },
    {
      "cell_type": "code",
      "source": [
        "import os, sys, time, threading, multiprocessing, random as r\n",
        "\n",
        "# Function runs for random seconds\n",
        "def task(cmd):\n",
        "\n",
        "    waitingTime = r.randint(5,10)\n",
        "\n",
        "    print(\"  Task %s started\" % (cmd))\n",
        "    print(\"\\n\")\n",
        "    print(\"   Task %s running for %d sec....\" % (cmd, waitingTime))\n",
        "    print(\"\\n\")\n",
        "    time.sleep(waitingTime)\n",
        "\n",
        "    print(\"  Task %s ends\" % (cmd))\n",
        "    print(\"\\n\")\n",
        "    return\n",
        "\n",
        "\n",
        "startTime=time.time()\n",
        "\n",
        "numberOfThreads=16\n",
        "\n",
        "#Main Program-Run multiple threads\n",
        "print(\"Program started...\")\n",
        "print(\"\\n\")\n",
        "for i in range(numberOfThreads):\n",
        "  cmd=str(i+1)\n",
        "  print(\"\\n\")\n",
        "  print(\"Thread %s starts\"%(cmd))\n",
        "  print(\"\\n\")\n",
        "  t=threading.Thread(target=task,args=(cmd,))\n",
        "  t.start()\n",
        "\n",
        "time.sleep(1)\n",
        "\n",
        "#Waiting for all threads to finish\n",
        "\n",
        "while True:\n",
        "  if threading.activeCount()==activeThreads:\n",
        "    break\n",
        "  else:\n",
        "    print(\"Thread still running(left %d...)\"%(threading.activeCount()-activeThreads))\n",
        "    print(\"\\n\")\n",
        "    time.sleep(1)\n",
        "print(\"All thread ends\")\n",
        "print(\"\\n\")\n",
        "\n",
        "print(\"Program finished\")\n",
        "print(\"\\n\")\n",
        "print(\"Total Time %f sec\"%(round(time.time()-startTime,4)))\n",
        "print(\"\\n\")"
      ],
      "metadata": {
        "colab": {
          "base_uri": "https://localhost:8080/"
        },
        "id": "ch7ghvedp0FE",
        "outputId": "791ed408-6c2b-4263-e422-75098587528d"
      },
      "execution_count": null,
      "outputs": [
        {
          "output_type": "stream",
          "name": "stdout",
          "text": [
            "Program started...\n",
            "\n",
            "\n",
            "\n",
            "\n",
            "Thread 1 starts\n",
            "\n",
            "\n",
            "  Task 1 started\n",
            "\n",
            "\n",
            "   Task 1 running for 10 sec....\n",
            "\n",
            "\n",
            "\n",
            "\n",
            "Thread 2 starts\n",
            "\n",
            "\n",
            "  Task 2 started\n",
            "\n",
            "\n",
            "   Task 2 running for 5 sec....\n",
            "\n",
            "\n",
            "\n",
            "\n",
            "Thread 3 starts\n",
            "\n",
            "\n",
            "  Task 3 started\n",
            "\n",
            "\n",
            "   Task 3 running for 9 sec....\n",
            "\n",
            "\n",
            "\n",
            "\n",
            "Thread 4 starts\n",
            "\n",
            "\n",
            "  Task 4 started\n",
            "\n",
            "\n",
            "   Task 4 running for 5 sec....\n",
            "\n",
            "\n",
            "\n",
            "\n",
            "Thread 5 starts\n",
            "\n",
            "\n",
            "  Task 5 started\n",
            "\n",
            "\n",
            "   Task 5 running for 7 sec....\n",
            "\n",
            "\n",
            "\n",
            "\n",
            "Thread 6 starts\n",
            "\n",
            "\n",
            "  Task 6 started\n",
            "\n",
            "\n",
            "   Task 6 running for 8 sec....\n",
            "\n",
            "\n",
            "\n",
            "\n",
            "Thread 7 starts\n",
            "\n",
            "\n",
            "  Task 7 started\n",
            "\n",
            "\n",
            "   Task 7 running for 7 sec....\n",
            "\n",
            "\n",
            "\n",
            "\n",
            "Thread 8 starts\n",
            "\n",
            "\n",
            "  Task 8 started\n",
            "\n",
            "\n",
            "   Task 8 running for 5 sec....\n",
            "\n",
            "\n",
            "\n",
            "\n",
            "Thread 9 starts\n",
            "\n",
            "\n",
            "  Task 9 started\n",
            "\n",
            "Thread 10 starts\n",
            "\n",
            "\n",
            "\n",
            "\n",
            "\n",
            "   Task 9 running for 10 sec....\n",
            "\n",
            "\n",
            "  Task 10 started\n",
            "\n",
            "Thread 11 starts\n",
            "\n",
            "\n",
            "\n",
            "\n",
            "\n",
            "   Task 10 running for 7 sec....\n",
            "\n",
            "\n",
            "  Task 11 started\n",
            "\n",
            "Thread 12 starts\n",
            "\n",
            "\n",
            "\n",
            "\n",
            "\n",
            "   Task 11 running for 8 sec....\n",
            "\n",
            "\n",
            "  Task 12 started\n",
            "\n",
            "Thread 13 starts\n",
            "\n",
            "\n",
            "\n",
            "\n",
            "\n",
            "   Task 12 running for 9 sec....\n",
            "\n",
            "\n",
            "  Task 13 started\n",
            "\n",
            "Thread 14 starts\n",
            "\n",
            "\n",
            "  Task 14 started\n",
            "\n",
            "Thread 15 starts\n",
            "\n",
            "\n",
            "\n",
            "\n",
            "\n",
            "   Task 14 running for 9 sec....\n",
            "\n",
            "\n",
            "\n",
            "\n",
            "\n",
            "   Task 13 running for 5 sec....\n",
            "\n",
            "\n",
            "  Task 15 started\n",
            "\n",
            "Thread 16 starts\n",
            "\n",
            "\n",
            "\n",
            "\n",
            "\n",
            "   Task 15 running for 10 sec....\n",
            "\n",
            "\n",
            "  Task 16 started\n",
            "\n",
            "\n",
            "   Task 16 running for 9 sec....\n",
            "\n",
            "\n",
            "Thread still running(left 16...)\n",
            "\n",
            "\n",
            "Thread still running(left 16...)\n",
            "\n",
            "\n",
            "Thread still running(left 16...)\n",
            "\n",
            "\n",
            "Thread still running(left 16...)\n",
            "\n",
            "\n",
            "  Task 2 ends\n",
            "\n",
            "\n",
            "  Task 4 ends\n",
            "\n",
            "\n",
            "  Task 8 ends\n",
            "\n",
            "\n",
            "  Task 13 ends\n",
            "\n",
            "\n",
            "Thread still running(left 12...)\n",
            "\n",
            "\n",
            "Thread still running(left 12...)\n",
            "\n",
            "\n",
            "  Task 5 ends\n",
            "\n",
            "\n",
            "  Task 7 ends\n",
            "\n",
            "\n",
            "  Task 10 ends\n",
            "\n",
            "\n",
            "Thread still running(left 9...)\n",
            "\n",
            "\n",
            "  Task 6 ends\n",
            "\n",
            "\n",
            "  Task 11 ends\n",
            "\n",
            "\n",
            "Thread still running(left 7...)\n",
            "\n",
            "\n",
            "  Task 3 ends\n",
            "\n",
            "\n",
            "  Task 12 ends\n",
            "\n",
            "\n",
            "  Task 14 ends\n",
            "\n",
            "\n",
            "  Task 16 ends\n",
            "\n",
            "\n",
            "Thread still running(left 3...)\n",
            "\n",
            "\n",
            "  Task 1 ends\n",
            "\n",
            "\n",
            "  Task 9 ends\n",
            "\n",
            "\n",
            "  Task 15 ends\n",
            "\n",
            "\n",
            "All thread ends\n",
            "\n",
            "\n",
            "Program finished\n",
            "\n",
            "\n",
            "Total Time 10.091700 sec\n",
            "\n",
            "\n"
          ]
        }
      ]
    },
    {
      "cell_type": "code",
      "source": [
        "#Main Program\n",
        "\n",
        "startTime=time.time()\n",
        "\n",
        "numberOfThreads=16\n",
        "\n",
        "activeThreads=threading.activeCount()\n",
        "\n",
        "print(\"Active threads=\",activeThreads)\n",
        "print(\"\\n\")\n",
        "numberOfCores=multiprocessing.cpu_count()\n",
        "print(\"Number of Cores=\",numberOfCores)\n",
        "print(\"\\n\")\n",
        "# Main Program\n",
        "\n",
        "print(\"Program started\")\n",
        "print(\"\\n\")\n",
        "for i in range(numberOfThreads):\n",
        "  cmd=str(i+1)\n",
        "  print(\"Thread %s starts\"%(cmd))\n",
        "  print(\"\\n\")\n",
        "  t=threading.Thread(target=task,args=(cmd,))\n",
        "  t.start()\n",
        "  while True:\n",
        "    if threading.activeCount()-activeThreads+1<=numberOfCores:\n",
        "      break\n",
        "    time.sleep(1)\n",
        "time.sleep(1)\n",
        "\n",
        "#Waiting to finish all threads\n",
        "\n",
        "\n",
        "while True:\n",
        "  if threading.activeCount()==activeThreads:\n",
        "    break\n",
        "  else:\n",
        "    print(\"Thread still running (left %d)...\"%(threading.activeCount()-activeThreads))\n",
        "    print(\"\\n\")\n",
        "    time.sleep(1)\n",
        "print(\"All threads end\")\n",
        "print(\"\\n\")\n",
        "print(\"Program finished\")\n",
        "print(\"\\n\")\n",
        "print(\"total time %f sec\"%(round(time.time()-startTime,4)))\n"
      ],
      "metadata": {
        "colab": {
          "base_uri": "https://localhost:8080/"
        },
        "id": "30gSKeRF2OAN",
        "outputId": "92cdb941-9f69-4eb9-d7f4-62945fdb86bd"
      },
      "execution_count": null,
      "outputs": [
        {
          "output_type": "stream",
          "name": "stdout",
          "text": [
            "Active threads= 5\n",
            "\n",
            "\n",
            "Number of Cores= 2\n",
            "\n",
            "\n",
            "Program started\n",
            "\n",
            "\n",
            "Thread 1 starts\n",
            "\n",
            "\n",
            "  Task 1 started\n",
            "\n",
            "\n",
            "   Task 1 running for 8 sec....\n",
            "\n",
            "\n",
            "Thread 2 starts\n",
            "\n",
            "\n",
            "  Task 2 started\n",
            "\n",
            "\n",
            "   Task 2 running for 9 sec....\n",
            "\n",
            "\n",
            "  Task 1 ends\n",
            "\n",
            "\n",
            "Thread 3 starts\n",
            "\n",
            "\n",
            "  Task 3 started\n",
            "\n",
            "\n",
            "   Task 3 running for 8 sec....\n",
            "\n",
            "\n",
            "  Task 2 ends\n",
            "\n",
            "\n",
            "Thread 4 starts\n",
            "\n",
            "\n",
            "  Task 4 started\n",
            "\n",
            "\n",
            "   Task 4 running for 8 sec....\n",
            "\n",
            "\n",
            "  Task 3 ends\n",
            "\n",
            "\n",
            "Thread 5 starts\n",
            "\n",
            "\n",
            "  Task 5 started\n",
            "\n",
            "\n",
            "   Task 5 running for 6 sec....\n",
            "\n",
            "\n",
            "  Task 4 ends\n",
            "\n",
            "\n",
            "Thread 6 starts\n",
            "\n",
            "\n",
            "  Task 6 started\n",
            "\n",
            "\n",
            "   Task 6 running for 6 sec....\n",
            "\n",
            "\n",
            "  Task 5 ends\n",
            "\n",
            "\n",
            "Thread 7 starts\n",
            "\n",
            "\n",
            "  Task 7 started\n",
            "\n",
            "\n",
            "   Task 7 running for 9 sec....\n",
            "\n",
            "\n",
            "  Task 6 ends\n",
            "\n",
            "\n",
            "Thread 8 starts\n",
            "\n",
            "\n",
            "  Task 8 started\n",
            "\n",
            "\n",
            "   Task 8 running for 7 sec....\n",
            "\n",
            "\n",
            "  Task 8 ends\n",
            "\n",
            "\n",
            "Thread 9 starts\n",
            "\n",
            "\n",
            "  Task 9 started\n",
            "\n",
            "\n",
            "   Task 9 running for 9 sec....\n",
            "\n",
            "\n",
            "  Task 7 ends\n",
            "\n",
            "\n",
            "Thread 10 starts\n",
            "\n",
            "\n",
            "  Task 10 started\n",
            "\n",
            "\n",
            "   Task 10 running for 9 sec....\n",
            "\n",
            "\n",
            "  Task 9 ends\n",
            "\n",
            "\n",
            "Thread 11 starts\n",
            "\n",
            "\n",
            "  Task 11 started\n",
            "\n",
            "\n",
            "   Task 11 running for 5 sec....\n",
            "\n",
            "\n",
            "  Task 10 ends\n",
            "\n",
            "\n",
            "Thread 12 starts\n",
            "\n",
            "\n",
            "  Task 12 started\n",
            "\n",
            "\n",
            "   Task 12 running for 5 sec....\n",
            "\n",
            "\n",
            "  Task 11 ends\n",
            "\n",
            "\n",
            "Thread 13 starts\n",
            "\n",
            "\n",
            "  Task 13 started\n",
            "\n",
            "\n",
            "   Task 13 running for 9 sec....\n",
            "\n",
            "\n",
            "  Task 12 ends\n",
            "\n",
            "\n",
            "Thread 14 starts\n",
            "\n",
            "\n",
            "  Task 14 started\n",
            "\n",
            "\n",
            "   Task 14 running for 7 sec....\n",
            "\n",
            "\n",
            "  Task 14 ends\n",
            "\n",
            "\n",
            "Thread 15 starts\n",
            "\n",
            "\n",
            "  Task 15 started\n",
            "\n",
            "\n",
            "   Task 15 running for 8 sec....\n",
            "\n",
            "\n",
            "  Task 13 ends\n",
            "\n",
            "\n",
            "Thread 16 starts\n",
            "\n",
            "\n",
            "  Task 16 started\n",
            "\n",
            "\n",
            "   Task 16 running for 7 sec....\n",
            "\n",
            "\n",
            "  Task 15 ends\n",
            "\n",
            "\n",
            "  Task 16 ends\n",
            "\n",
            "\n",
            "All threads end\n",
            "\n",
            "\n",
            "Program finished\n",
            "\n",
            "\n",
            "total time 61.112400 sec\n"
          ]
        }
      ]
    },
    {
      "cell_type": "markdown",
      "source": [
        "Part 3"
      ],
      "metadata": {
        "id": "NwTUHSQM9lVK"
      }
    },
    {
      "cell_type": "code",
      "source": [
        "import os\n",
        "os.getcwd()"
      ],
      "metadata": {
        "colab": {
          "base_uri": "https://localhost:8080/",
          "height": 36
        },
        "id": "9HQFUpb-9ok6",
        "outputId": "6f8765a1-830b-4bbb-8e5f-def44dbe39d3"
      },
      "execution_count": null,
      "outputs": [
        {
          "output_type": "execute_result",
          "data": {
            "text/plain": [
              "'/content'"
            ],
            "application/vnd.google.colaboratory.intrinsic+json": {
              "type": "string"
            }
          },
          "metadata": {},
          "execution_count": 21
        }
      ]
    },
    {
      "cell_type": "code",
      "source": [
        "import random as r,string as s,shutil,os,time\n",
        "\n",
        "inputDirName='inputDirectory'\n",
        "\n",
        "totalFiles=20\n",
        "\n",
        "fileSize=20\n",
        "\n",
        "try:\n",
        "  #Delete input directory and then create it\n",
        "\n",
        "  shutil.rmtree(\"./%s/\"%(inputDirName))\n",
        "  os.mkdir(inputDirName)\n",
        "except:\n",
        "  #Create input directory\n",
        "  os.mkdir(inputDirName)"
      ],
      "metadata": {
        "id": "BnfLIhr09u-j"
      },
      "execution_count": null,
      "outputs": []
    },
    {
      "cell_type": "code",
      "source": [
        "def task(fileName):\n",
        "  iteration=512\n",
        "  fileName=\"./%s/%s\"%(inputDirName,fileName)\n",
        "  while True:\n",
        "    fp=open(fileName,\"a\")\n",
        "    for j in range(iteration):\n",
        "      for k in range(iteration):\n",
        "        string=\" \".join(r.sample(s.ascii_letters,50))\n",
        "        fp.write(string+\"\\n\"+string+\"\\n\"+string+\"\\n\"+string+\"\\n\"+string+\"\\n\")\n",
        "    fp.close()\n",
        "    if os.path.getsize(fileName)>=fileSize:\n",
        "      break\n",
        "  return None"
      ],
      "metadata": {
        "id": "o9NnU3CVL0zx"
      },
      "execution_count": null,
      "outputs": []
    },
    {
      "cell_type": "code",
      "source": [
        "# Main Program'\n",
        "\n",
        "startTime=time.time()\n",
        "\n",
        "print(\"program started...\")\n",
        "\n",
        "for i in range(totalFiles):\n",
        "  fileName=\"test%d.txt\"%(i+1)\n",
        "  task(fileName)\n",
        "  if i%5==0:\n",
        "    print(\"Creating file %s\"%(fileName))\n",
        "\n",
        "print(\"\\n Total time %f sec\"%(round(time.time()-startTime,4)))\n",
        "print(\"Program finished\")"
      ],
      "metadata": {
        "colab": {
          "base_uri": "https://localhost:8080/"
        },
        "id": "XGE-bhhiMwKS",
        "outputId": "c1b9eebf-dfc8-49f3-8e58-4ef494f48e17"
      },
      "execution_count": null,
      "outputs": [
        {
          "output_type": "stream",
          "name": "stdout",
          "text": [
            "program started...\n",
            "Creating file test1.txt\n",
            "Creating file test6.txt\n",
            "Creating file test11.txt\n",
            "Creating file test16.txt\n",
            "\n",
            " Total time 181.195600 sec\n",
            "Program finished\n"
          ]
        }
      ]
    }
  ]
}